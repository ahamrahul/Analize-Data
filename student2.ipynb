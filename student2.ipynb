{
 "cells": [
  {
   "cell_type": "code",
   "execution_count": 1,
   "id": "6377451f",
   "metadata": {},
   "outputs": [],
   "source": [
    "import pandas as pd\n",
    "import numpy as np\n",
    "import matplotlib.pyplot as plt\n",
    "import seaborn as sns"
   ]
  },
  {
   "cell_type": "code",
   "execution_count": 2,
   "id": "4facce84",
   "metadata": {},
   "outputs": [],
   "source": [
    "df1 = pd.read_csv(\"C:\\data\\student\\leads_basic_details1.csv\")\n",
    "df2 = pd.read_csv(\"C:\\data\\student\\leads_demo_watched_details2.csv\")\n",
    "df3 = pd.read_csv (\"C:\\data\\student\\leads_interaction_details3.csv\")\n",
    "df4 = pd.read_csv (\"C:\\data\\student\\leads_reasons_for_no_interest4.csv\")\n",
    "df5 = pd.read_csv (\"C:\\data\\student\\sales_managers_assigned_leads_details5.csv\")"
   ]
  },
  {
   "cell_type": "markdown",
   "id": "0cfd03d7",
   "metadata": {},
   "source": [
    "### Data cleaning and Handling"
   ]
  },
  {
   "cell_type": "code",
   "execution_count": 3,
   "id": "c6dd20d8",
   "metadata": {},
   "outputs": [
    {
     "name": "stdout",
     "output_type": "stream",
     "text": [
      "SHAPE OF  DATASETS:-- \n",
      "\n",
      "leads_basic_details1:  (360, 7)\n",
      "leads_deamo_watched_details2:  (194, 4)\n",
      "leads_interaction_details3:  (2192, 6)\n",
      "leads_reasion_for_no_interest4:  (294, 4)\n",
      "sales_managers_assigned_leads_details5:  (360, 5)\n"
     ]
    }
   ],
   "source": [
    "print ('SHAPE OF  DATASETS:-- \\n')\n",
    "print ('leads_basic_details1: ',df1.shape)\n",
    "print ('leads_deamo_watched_details2: ',df2.shape)\n",
    "print ('leads_interaction_details3: ',df3.shape)\n",
    "print ('leads_reasion_for_no_interest4: ',df4.shape)\n",
    "print ('sales_managers_assigned_leads_details5: ',df5.shape)"
   ]
  },
  {
   "cell_type": "code",
   "execution_count": 4,
   "id": "36413881",
   "metadata": {},
   "outputs": [
    {
     "name": "stdout",
     "output_type": "stream",
     "text": [
      "DUPLICATES COUNT:-- \n",
      "\n",
      "leads_basic_details1:  0\n",
      "leads_deamo_watched_details2:  0\n",
      "leads_interaction_details3:  438\n",
      "leads_reasion_for_no_interest4:  0\n",
      "sales_managers_assigned_leads_details5:  0\n"
     ]
    }
   ],
   "source": [
    "print ('DUPLICATES COUNT:-- \\n')\n",
    "print ('leads_basic_details1: ',df1.duplicated().sum())\n",
    "print ('leads_deamo_watched_details2: ',df2.duplicated().sum())\n",
    "print ('leads_interaction_details3: ',df3.duplicated().sum())\n",
    "print ('leads_reasion_for_no_interest4: ',df4.duplicated().sum())\n",
    "print ('sales_managers_assigned_leads_details5: ',df5.duplicated().sum())"
   ]
  },
  {
   "cell_type": "markdown",
   "id": "35f95516",
   "metadata": {},
   "source": [
    "### we should drop thes duplicate records before using the data for analysis."
   ]
  },
  {
   "cell_type": "code",
   "execution_count": 5,
   "id": "50bd73ed",
   "metadata": {},
   "outputs": [
    {
     "name": "stdout",
     "output_type": "stream",
     "text": [
      "leads_interaction_details: 0\n"
     ]
    }
   ],
   "source": [
    "df3.drop_duplicates(inplace= True)\n",
    "print ('leads_interaction_details:', df3.duplicated().sum())"
   ]
  },
  {
   "cell_type": "code",
   "execution_count": 6,
   "id": "a474249c",
   "metadata": {},
   "outputs": [
    {
     "name": "stdout",
     "output_type": "stream",
     "text": [
      "NULL VALUE COUNT \n",
      "\n",
      "leades_basic_details1: \n",
      "\n",
      " lead_id              0\n",
      "age                  0\n",
      "gender               0\n",
      "current_city         0\n",
      "current_education    0\n",
      "parent_occupation    0\n",
      "lead_gen_source      0\n",
      "dtype: int64\n",
      "leades_deamo_watched_details2: \n",
      "\n",
      " lead_id               0\n",
      "demo_watched_date     0\n",
      "language              0\n",
      "watched_percentage    0\n",
      "dtype: int64\n",
      "leads_interaction_details3: \n",
      "\n",
      " jnr_sm_id         0\n",
      "lead_id           0\n",
      "lead_stage        0\n",
      "call_done_date    0\n",
      "call_status       0\n",
      "call_reason       0\n",
      "dtype: int64\n",
      "leads_reasion_for_no_interest4: \n",
      "\n",
      " lead_id                                     0\n",
      "reasons_for_not_interested_in_demo        130\n",
      "reasons_for_not_interested_to_consider    215\n",
      "reasons_for_not_interested_to_convert     243\n",
      "dtype: int64\n",
      "sales_managers_assigned_leads_details5: \n",
      "\n",
      " snr_sm_id        0\n",
      "jnr_sm_id        0\n",
      "assigned_date    0\n",
      "cycle            0\n",
      "lead_id          0\n",
      "dtype: int64\n"
     ]
    }
   ],
   "source": [
    "print ('NULL VALUE COUNT \\n')\n",
    "print ('leades_basic_details1: \\n\\n', df1.isnull().sum())\n",
    "print ('leades_deamo_watched_details2: \\n\\n',df2.isnull().sum())\n",
    "print ('leads_interaction_details3: \\n\\n',df3.isnull().sum())\n",
    "print ('leads_reasion_for_no_interest4: \\n\\n',df4.isnull().sum())\n",
    "print ('sales_managers_assigned_leads_details5: \\n\\n',df5.isnull().sum())"
   ]
  },
  {
   "cell_type": "markdown",
   "id": "c4d16c47",
   "metadata": {},
   "source": [
    "#### => Now we start looking for null values, duplicates, outliers and                     inconsistencies in the data\n",
    "####  => we start working on each dataset from df1 through df5\n",
    "      \n",
    "      \n",
    "## Dataframe df1"
   ]
  },
  {
   "cell_type": "code",
   "execution_count": 7,
   "id": "9b7486c6",
   "metadata": {},
   "outputs": [
    {
     "name": "stdout",
     "output_type": "stream",
     "text": [
      "<class 'pandas.core.frame.DataFrame'>\n",
      "RangeIndex: 360 entries, 0 to 359\n",
      "Data columns (total 7 columns):\n",
      " #   Column             Non-Null Count  Dtype \n",
      "---  ------             --------------  ----- \n",
      " 0   lead_id            360 non-null    object\n",
      " 1   age                360 non-null    int64 \n",
      " 2   gender             360 non-null    object\n",
      " 3   current_city       360 non-null    object\n",
      " 4   current_education  360 non-null    object\n",
      " 5   parent_occupation  360 non-null    object\n",
      " 6   lead_gen_source    360 non-null    object\n",
      "dtypes: int64(1), object(6)\n",
      "memory usage: 19.8+ KB\n"
     ]
    }
   ],
   "source": [
    "df1.info()"
   ]
  },
  {
   "cell_type": "code",
   "execution_count": 8,
   "id": "ef9c7870",
   "metadata": {},
   "outputs": [
    {
     "data": {
      "text/html": [
       "<div>\n",
       "<style scoped>\n",
       "    .dataframe tbody tr th:only-of-type {\n",
       "        vertical-align: middle;\n",
       "    }\n",
       "\n",
       "    .dataframe tbody tr th {\n",
       "        vertical-align: top;\n",
       "    }\n",
       "\n",
       "    .dataframe thead th {\n",
       "        text-align: right;\n",
       "    }\n",
       "</style>\n",
       "<table border=\"1\" class=\"dataframe\">\n",
       "  <thead>\n",
       "    <tr style=\"text-align: right;\">\n",
       "      <th></th>\n",
       "      <th>age</th>\n",
       "    </tr>\n",
       "  </thead>\n",
       "  <tbody>\n",
       "    <tr>\n",
       "      <th>count</th>\n",
       "      <td>360.000000</td>\n",
       "    </tr>\n",
       "    <tr>\n",
       "      <th>mean</th>\n",
       "      <td>21.561111</td>\n",
       "    </tr>\n",
       "    <tr>\n",
       "      <th>std</th>\n",
       "      <td>11.555444</td>\n",
       "    </tr>\n",
       "    <tr>\n",
       "      <th>min</th>\n",
       "      <td>16.000000</td>\n",
       "    </tr>\n",
       "    <tr>\n",
       "      <th>25%</th>\n",
       "      <td>18.000000</td>\n",
       "    </tr>\n",
       "    <tr>\n",
       "      <th>50%</th>\n",
       "      <td>21.000000</td>\n",
       "    </tr>\n",
       "    <tr>\n",
       "      <th>75%</th>\n",
       "      <td>24.000000</td>\n",
       "    </tr>\n",
       "    <tr>\n",
       "      <th>max</th>\n",
       "      <td>211.000000</td>\n",
       "    </tr>\n",
       "  </tbody>\n",
       "</table>\n",
       "</div>"
      ],
      "text/plain": [
       "              age\n",
       "count  360.000000\n",
       "mean    21.561111\n",
       "std     11.555444\n",
       "min     16.000000\n",
       "25%     18.000000\n",
       "50%     21.000000\n",
       "75%     24.000000\n",
       "max    211.000000"
      ]
     },
     "execution_count": 8,
     "metadata": {},
     "output_type": "execute_result"
    }
   ],
   "source": [
    "df1.describe()"
   ]
  },
  {
   "cell_type": "markdown",
   "id": "feb02161",
   "metadata": {},
   "source": [
    "#### their is huse gap b/t the 75% and manX value "
   ]
  },
  {
   "cell_type": "code",
   "execution_count": 9,
   "id": "a4d5b0ed",
   "metadata": {},
   "outputs": [
    {
     "data": {
      "image/png": "[encoded data removed]",
      "text/plain": [
       "<Figure size 1300x500 with 1 Axes>"
      ]
     },
     "metadata": {},
     "output_type": "display_data"
    }
   ],
   "source": [
    "plt.figure(figsize = (13,5))\n",
    "plt.suptitle(\"Distribution of age\", fontsize = 25, fontweight =20, color = 'Black')\n",
    "ticks = np.arange(0,200,20)\n",
    "label= [\"{}\".format(i) for i in ticks]\n",
    "plt.yticks(ticks,label)\n",
    "sns.boxplot(y=df1.age)\n",
    "\n",
    "\n",
    "plt.show()\n"
   ]
  },
  {
   "cell_type": "markdown",
   "id": "bd1ea7ea",
   "metadata": {},
   "source": [
    "#### their is two outlines we should remove it"
   ]
  },
  {
   "cell_type": "code",
   "execution_count": 10,
   "id": "80a609a9",
   "metadata": {},
   "outputs": [],
   "source": [
    "# Seperating values greater than 90 percentile as outliers."
   ]
  },
  {
   "cell_type": "code",
   "execution_count": 11,
   "id": "fdf222f8",
   "metadata": {},
   "outputs": [
    {
     "data": {
      "text/html": [
       "<div>\n",
       "<style scoped>\n",
       "    .dataframe tbody tr th:only-of-type {\n",
       "        vertical-align: middle;\n",
       "    }\n",
       "\n",
       "    .dataframe tbody tr th {\n",
       "        vertical-align: top;\n",
       "    }\n",
       "\n",
       "    .dataframe thead th {\n",
       "        text-align: right;\n",
       "    }\n",
       "</style>\n",
       "<table border=\"1\" class=\"dataframe\">\n",
       "  <thead>\n",
       "    <tr style=\"text-align: right;\">\n",
       "      <th></th>\n",
       "      <th>lead_id</th>\n",
       "      <th>age</th>\n",
       "      <th>gender</th>\n",
       "      <th>current_city</th>\n",
       "      <th>current_education</th>\n",
       "      <th>parent_occupation</th>\n",
       "      <th>lead_gen_source</th>\n",
       "    </tr>\n",
       "  </thead>\n",
       "  <tbody>\n",
       "    <tr>\n",
       "      <th>17</th>\n",
       "      <td>USR1018</td>\n",
       "      <td>211</td>\n",
       "      <td>MALE</td>\n",
       "      <td>Hyderabad</td>\n",
       "      <td>Degree</td>\n",
       "      <td>IT Employee</td>\n",
       "      <td>social_media</td>\n",
       "    </tr>\n",
       "    <tr>\n",
       "      <th>300</th>\n",
       "      <td>USR1301</td>\n",
       "      <td>116</td>\n",
       "      <td>FEMALE</td>\n",
       "      <td>Hyderabad</td>\n",
       "      <td>Intermediate</td>\n",
       "      <td>Private Employee</td>\n",
       "      <td>social_media</td>\n",
       "    </tr>\n",
       "  </tbody>\n",
       "</table>\n",
       "</div>"
      ],
      "text/plain": [
       "     lead_id  age  gender current_city current_education parent_occupation  \\\n",
       "17   USR1018  211    MALE    Hyderabad            Degree       IT Employee   \n",
       "300  USR1301  116  FEMALE    Hyderabad      Intermediate  Private Employee   \n",
       "\n",
       "    lead_gen_source  \n",
       "17     social_media  \n",
       "300    social_media  "
      ]
     },
     "execution_count": 11,
     "metadata": {},
     "output_type": "execute_result"
    }
   ],
   "source": [
    "df1_outlier = df1[df1.age>df1.age.quantile(0.90)]\n",
    "\n",
    "df1_outlier"
   ]
  },
  {
   "cell_type": "code",
   "execution_count": 12,
   "id": "e08edcfc",
   "metadata": {},
   "outputs": [],
   "source": [
    "# remove the outliers for df1 dataset\n",
    "df1= df1.drop([df1_outlier.index[0], df1_outlier.index[1]])"
   ]
  },
  {
   "cell_type": "code",
   "execution_count": 13,
   "id": "4ff9583d",
   "metadata": {},
   "outputs": [
    {
     "data": {
      "text/plain": [
       "(358, 7)"
      ]
     },
     "execution_count": 13,
     "metadata": {},
     "output_type": "execute_result"
    }
   ],
   "source": [
    "df1.shape"
   ]
  },
  {
   "cell_type": "code",
   "execution_count": 14,
   "id": "848f1814",
   "metadata": {},
   "outputs": [
    {
     "data": {
      "image/png": "[encoded data removed]",
      "text/plain": [
       "<Figure size 1300x500 with 1 Axes>"
      ]
     },
     "metadata": {},
     "output_type": "display_data"
    }
   ],
   "source": [
    "#re-ploting age distribution after handling the outliers\n",
    "plt.figure(figsize = (13,5))\n",
    "plt.suptitle(\"Distribution of age\", fontsize = 25, fontweight =20, color = 'Black')\n",
    "ticks = np.arange(0,30,1)\n",
    "label= [\"{}\".format(i) for i in ticks]\n",
    "plt.yticks(ticks,label)\n",
    "sns.boxplot(y=df1.age)\n",
    "\n",
    "\n",
    "plt.show()"
   ]
  },
  {
   "cell_type": "markdown",
   "id": "d04edade",
   "metadata": {},
   "source": [
    "#### majority of student are aged between 18 to 24 years."
   ]
  },
  {
   "cell_type": "code",
   "execution_count": 15,
   "id": "3b01b104",
   "metadata": {},
   "outputs": [
    {
     "data": {
      "text/plain": [
       "FEMALE    198\n",
       "MALE      160\n",
       "Name: gender, dtype: int64"
      ]
     },
     "execution_count": 15,
     "metadata": {},
     "output_type": "execute_result"
    }
   ],
   "source": [
    "df1.gender.value_counts()"
   ]
  },
  {
   "cell_type": "code",
   "execution_count": 16,
   "id": "028623cf",
   "metadata": {},
   "outputs": [
    {
     "data": {
      "text/plain": [
       "Index(['lead_id', 'age', 'gender', 'current_city', 'current_education',\n",
       "       'parent_occupation', 'lead_gen_source'],\n",
       "      dtype='object')"
      ]
     },
     "execution_count": 16,
     "metadata": {},
     "output_type": "execute_result"
    }
   ],
   "source": [
    "df1.columns"
   ]
  },
  {
   "cell_type": "code",
   "execution_count": 17,
   "id": "619f033e",
   "metadata": {},
   "outputs": [
    {
     "data": {
      "text/plain": [
       "B.Tech                    139\n",
       "Looking for Job           117\n",
       "Degree                     42\n",
       "Intermediate               40\n",
       "Intermediate Completed     12\n",
       "10th Completed              8\n",
       "Name: current_education, dtype: int64"
      ]
     },
     "execution_count": 17,
     "metadata": {},
     "output_type": "execute_result"
    }
   ],
   "source": [
    "df1.current_education.value_counts()"
   ]
  },
  {
   "cell_type": "markdown",
   "id": "efe0e126",
   "metadata": {},
   "source": [
    "#### we notish that 'intermediate' and 'intermediate completed' are same thats why we marge the value in 'intermediate' for find more accurate result."
   ]
  },
  {
   "cell_type": "code",
   "execution_count": null,
   "id": "dc1405c8",
   "metadata": {},
   "outputs": [],
   "source": []
  },
  {
   "cell_type": "code",
   "execution_count": 18,
   "id": "439c8707",
   "metadata": {},
   "outputs": [],
   "source": [
    "df1['current_education'].replace ({'Intermediate Completed':'Intermediate'}, inplace=True)"
   ]
  },
  {
   "cell_type": "code",
   "execution_count": 19,
   "id": "328e8544",
   "metadata": {},
   "outputs": [
    {
     "data": {
      "text/plain": [
       "B.Tech             139\n",
       "Looking for Job    117\n",
       "Intermediate        52\n",
       "Degree              42\n",
       "10th Completed       8\n",
       "Name: current_education, dtype: int64"
      ]
     },
     "execution_count": 19,
     "metadata": {},
     "output_type": "execute_result"
    }
   ],
   "source": [
    "# try\n",
    "df1.current_education.value_counts()"
   ]
  },
  {
   "cell_type": "markdown",
   "id": "553d6275",
   "metadata": {},
   "source": [
    "## Dataframe df2"
   ]
  },
  {
   "cell_type": "code",
   "execution_count": 20,
   "id": "677afec5",
   "metadata": {},
   "outputs": [
    {
     "name": "stdout",
     "output_type": "stream",
     "text": [
      "<class 'pandas.core.frame.DataFrame'>\n",
      "RangeIndex: 194 entries, 0 to 193\n",
      "Data columns (total 4 columns):\n",
      " #   Column              Non-Null Count  Dtype \n",
      "---  ------              --------------  ----- \n",
      " 0   lead_id             194 non-null    object\n",
      " 1   demo_watched_date   194 non-null    object\n",
      " 2   language            194 non-null    object\n",
      " 3   watched_percentage  194 non-null    int64 \n",
      "dtypes: int64(1), object(3)\n",
      "memory usage: 6.2+ KB\n"
     ]
    }
   ],
   "source": [
    "df2.info()"
   ]
  },
  {
   "cell_type": "code",
   "execution_count": 21,
   "id": "2f5a4ec0",
   "metadata": {},
   "outputs": [
    {
     "data": {
      "text/html": [
       "<div>\n",
       "<style scoped>\n",
       "    .dataframe tbody tr th:only-of-type {\n",
       "        vertical-align: middle;\n",
       "    }\n",
       "\n",
       "    .dataframe tbody tr th {\n",
       "        vertical-align: top;\n",
       "    }\n",
       "\n",
       "    .dataframe thead th {\n",
       "        text-align: right;\n",
       "    }\n",
       "</style>\n",
       "<table border=\"1\" class=\"dataframe\">\n",
       "  <thead>\n",
       "    <tr style=\"text-align: right;\">\n",
       "      <th></th>\n",
       "      <th>watched_percentage</th>\n",
       "    </tr>\n",
       "  </thead>\n",
       "  <tbody>\n",
       "    <tr>\n",
       "      <th>count</th>\n",
       "      <td>194.000000</td>\n",
       "    </tr>\n",
       "    <tr>\n",
       "      <th>mean</th>\n",
       "      <td>56.634021</td>\n",
       "    </tr>\n",
       "    <tr>\n",
       "      <th>std</th>\n",
       "      <td>43.555635</td>\n",
       "    </tr>\n",
       "    <tr>\n",
       "      <th>min</th>\n",
       "      <td>2.000000</td>\n",
       "    </tr>\n",
       "    <tr>\n",
       "      <th>25%</th>\n",
       "      <td>35.000000</td>\n",
       "    </tr>\n",
       "    <tr>\n",
       "      <th>50%</th>\n",
       "      <td>55.500000</td>\n",
       "    </tr>\n",
       "    <tr>\n",
       "      <th>75%</th>\n",
       "      <td>75.750000</td>\n",
       "    </tr>\n",
       "    <tr>\n",
       "      <th>max</th>\n",
       "      <td>510.000000</td>\n",
       "    </tr>\n",
       "  </tbody>\n",
       "</table>\n",
       "</div>"
      ],
      "text/plain": [
       "       watched_percentage\n",
       "count          194.000000\n",
       "mean            56.634021\n",
       "std             43.555635\n",
       "min              2.000000\n",
       "25%             35.000000\n",
       "50%             55.500000\n",
       "75%             75.750000\n",
       "max            510.000000"
      ]
     },
     "execution_count": 21,
     "metadata": {},
     "output_type": "execute_result"
    }
   ],
   "source": [
    "df2.describe()"
   ]
  },
  {
   "cell_type": "markdown",
   "id": "1f5736b8",
   "metadata": {},
   "source": [
    "#### we can obsserve def b/t 75% and max value"
   ]
  },
  {
   "cell_type": "code",
   "execution_count": 22,
   "id": "7d15a5d4",
   "metadata": {},
   "outputs": [
    {
     "data": {
      "image/png": "[encoded data removed]",
      "text/plain": [
       "<Figure size 1300x500 with 1 Axes>"
      ]
     },
     "metadata": {},
     "output_type": "display_data"
    }
   ],
   "source": [
    "plt.figure(figsize = (13,5))\n",
    "plt.suptitle(\"Distribution of Watched_percentage\", fontsize = 25, fontweight =20, color = 'Black')\n",
    "ticks = np.arange(0,200,20)\n",
    "label= [\"{}\".format(i) for i in ticks]\n",
    "plt.yticks(ticks,label)\n",
    "sns.boxplot(y=df2.watched_percentage)\n",
    "\n",
    "\n",
    "plt.show()"
   ]
  },
  {
   "cell_type": "code",
   "execution_count": 23,
   "id": "f184905c",
   "metadata": {},
   "outputs": [
    {
     "data": {
      "text/html": [
       "<div>\n",
       "<style scoped>\n",
       "    .dataframe tbody tr th:only-of-type {\n",
       "        vertical-align: middle;\n",
       "    }\n",
       "\n",
       "    .dataframe tbody tr th {\n",
       "        vertical-align: top;\n",
       "    }\n",
       "\n",
       "    .dataframe thead th {\n",
       "        text-align: right;\n",
       "    }\n",
       "</style>\n",
       "<table border=\"1\" class=\"dataframe\">\n",
       "  <thead>\n",
       "    <tr style=\"text-align: right;\">\n",
       "      <th></th>\n",
       "      <th>lead_id</th>\n",
       "      <th>demo_watched_date</th>\n",
       "      <th>language</th>\n",
       "      <th>watched_percentage</th>\n",
       "    </tr>\n",
       "  </thead>\n",
       "  <tbody>\n",
       "    <tr>\n",
       "      <th>94</th>\n",
       "      <td>USR1138</td>\n",
       "      <td>2/20/2022</td>\n",
       "      <td>English</td>\n",
       "      <td>510</td>\n",
       "    </tr>\n",
       "    <tr>\n",
       "      <th>133</th>\n",
       "      <td>USR1213</td>\n",
       "      <td>1/20/2022</td>\n",
       "      <td>Telugu</td>\n",
       "      <td>233</td>\n",
       "    </tr>\n",
       "  </tbody>\n",
       "</table>\n",
       "</div>"
      ],
      "text/plain": [
       "     lead_id demo_watched_date language  watched_percentage\n",
       "94   USR1138         2/20/2022  English                 510\n",
       "133  USR1213         1/20/2022   Telugu                 233"
      ]
     },
     "execution_count": 23,
     "metadata": {},
     "output_type": "execute_result"
    }
   ],
   "source": [
    "df2_outlier = df2[df2.watched_percentage>100]\n",
    "\n",
    "df2_outlier"
   ]
  },
  {
   "cell_type": "code",
   "execution_count": 24,
   "id": "c5bba6e7",
   "metadata": {},
   "outputs": [
    {
     "data": {
      "text/plain": [
       "(192, 4)"
      ]
     },
     "execution_count": 24,
     "metadata": {},
     "output_type": "execute_result"
    }
   ],
   "source": [
    "df2 = df2.drop([df2_outlier.index[0], df2_outlier.index [1]])\n",
    "df2.shape"
   ]
  },
  {
   "cell_type": "code",
   "execution_count": 25,
   "id": "6b817114",
   "metadata": {},
   "outputs": [
    {
     "data": {
      "image/png": "[encoded data removed]",
      "text/plain": [
       "<Figure size 640x480 with 1 Axes>"
      ]
     },
     "metadata": {},
     "output_type": "display_data"
    }
   ],
   "source": [
    "# plotting watched peracentage after handling outliers.\n",
    "plt.suptitle(\"distrubition of watched_percentage\", fontsize = 25, fontweight = 5, color = 'Black')\n",
    "ticks = np.arange(0,200,20)\n",
    "label = [\"{}\".format(i) for i in ticks]\n",
    "plt.yticks(ticks,label)\n",
    "sns.boxplot(y = df2.watched_percentage)\n",
    "\n",
    "plt.show()"
   ]
  },
  {
   "cell_type": "code",
   "execution_count": 26,
   "id": "612c745e",
   "metadata": {},
   "outputs": [],
   "source": [
    "df2= df2.drop(['demo_watched_date'], axis = 1)"
   ]
  },
  {
   "cell_type": "code",
   "execution_count": 27,
   "id": "1cd832b0",
   "metadata": {},
   "outputs": [
    {
     "data": {
      "text/html": [
       "<div>\n",
       "<style scoped>\n",
       "    .dataframe tbody tr th:only-of-type {\n",
       "        vertical-align: middle;\n",
       "    }\n",
       "\n",
       "    .dataframe tbody tr th {\n",
       "        vertical-align: top;\n",
       "    }\n",
       "\n",
       "    .dataframe thead th {\n",
       "        text-align: right;\n",
       "    }\n",
       "</style>\n",
       "<table border=\"1\" class=\"dataframe\">\n",
       "  <thead>\n",
       "    <tr style=\"text-align: right;\">\n",
       "      <th></th>\n",
       "      <th>lead_id</th>\n",
       "      <th>language</th>\n",
       "      <th>watched_percentage</th>\n",
       "    </tr>\n",
       "  </thead>\n",
       "  <tbody>\n",
       "    <tr>\n",
       "      <th>0</th>\n",
       "      <td>USR1002</td>\n",
       "      <td>Telugu</td>\n",
       "      <td>42</td>\n",
       "    </tr>\n",
       "    <tr>\n",
       "      <th>1</th>\n",
       "      <td>USR1003</td>\n",
       "      <td>Telugu</td>\n",
       "      <td>81</td>\n",
       "    </tr>\n",
       "    <tr>\n",
       "      <th>2</th>\n",
       "      <td>USR1004</td>\n",
       "      <td>Telugu</td>\n",
       "      <td>35</td>\n",
       "    </tr>\n",
       "    <tr>\n",
       "      <th>3</th>\n",
       "      <td>USR1005</td>\n",
       "      <td>Hindi</td>\n",
       "      <td>38</td>\n",
       "    </tr>\n",
       "    <tr>\n",
       "      <th>4</th>\n",
       "      <td>USR1006</td>\n",
       "      <td>Hindi</td>\n",
       "      <td>54</td>\n",
       "    </tr>\n",
       "    <tr>\n",
       "      <th>...</th>\n",
       "      <td>...</td>\n",
       "      <td>...</td>\n",
       "      <td>...</td>\n",
       "    </tr>\n",
       "    <tr>\n",
       "      <th>189</th>\n",
       "      <td>USR1317</td>\n",
       "      <td>English</td>\n",
       "      <td>48</td>\n",
       "    </tr>\n",
       "    <tr>\n",
       "      <th>190</th>\n",
       "      <td>USR1318</td>\n",
       "      <td>English</td>\n",
       "      <td>83</td>\n",
       "    </tr>\n",
       "    <tr>\n",
       "      <th>191</th>\n",
       "      <td>USR1319</td>\n",
       "      <td>English</td>\n",
       "      <td>84</td>\n",
       "    </tr>\n",
       "    <tr>\n",
       "      <th>192</th>\n",
       "      <td>USR1343</td>\n",
       "      <td>English</td>\n",
       "      <td>68</td>\n",
       "    </tr>\n",
       "    <tr>\n",
       "      <th>193</th>\n",
       "      <td>USR1348</td>\n",
       "      <td>English</td>\n",
       "      <td>72</td>\n",
       "    </tr>\n",
       "  </tbody>\n",
       "</table>\n",
       "<p>192 rows × 3 columns</p>\n",
       "</div>"
      ],
      "text/plain": [
       "     lead_id language  watched_percentage\n",
       "0    USR1002   Telugu                  42\n",
       "1    USR1003   Telugu                  81\n",
       "2    USR1004   Telugu                  35\n",
       "3    USR1005    Hindi                  38\n",
       "4    USR1006    Hindi                  54\n",
       "..       ...      ...                 ...\n",
       "189  USR1317  English                  48\n",
       "190  USR1318  English                  83\n",
       "191  USR1319  English                  84\n",
       "192  USR1343  English                  68\n",
       "193  USR1348  English                  72\n",
       "\n",
       "[192 rows x 3 columns]"
      ]
     },
     "execution_count": 27,
     "metadata": {},
     "output_type": "execute_result"
    }
   ],
   "source": [
    "df2"
   ]
  },
  {
   "cell_type": "markdown",
   "id": "f69d806b",
   "metadata": {},
   "source": [
    "## Dataframe df3"
   ]
  },
  {
   "cell_type": "code",
   "execution_count": 28,
   "id": "075758ff",
   "metadata": {},
   "outputs": [
    {
     "name": "stdout",
     "output_type": "stream",
     "text": [
      "<class 'pandas.core.frame.DataFrame'>\n",
      "Int64Index: 1754 entries, 0 to 2191\n",
      "Data columns (total 6 columns):\n",
      " #   Column          Non-Null Count  Dtype \n",
      "---  ------          --------------  ----- \n",
      " 0   jnr_sm_id       1754 non-null   object\n",
      " 1   lead_id         1754 non-null   object\n",
      " 2   lead_stage      1754 non-null   object\n",
      " 3   call_done_date  1754 non-null   object\n",
      " 4   call_status     1754 non-null   object\n",
      " 5   call_reason     1754 non-null   object\n",
      "dtypes: object(6)\n",
      "memory usage: 95.9+ KB\n"
     ]
    }
   ],
   "source": [
    "df3.info()"
   ]
  },
  {
   "cell_type": "code",
   "execution_count": 29,
   "id": "b5ad24ef",
   "metadata": {},
   "outputs": [
    {
     "data": {
      "text/html": [
       "<div>\n",
       "<style scoped>\n",
       "    .dataframe tbody tr th:only-of-type {\n",
       "        vertical-align: middle;\n",
       "    }\n",
       "\n",
       "    .dataframe tbody tr th {\n",
       "        vertical-align: top;\n",
       "    }\n",
       "\n",
       "    .dataframe thead th {\n",
       "        text-align: right;\n",
       "    }\n",
       "</style>\n",
       "<table border=\"1\" class=\"dataframe\">\n",
       "  <thead>\n",
       "    <tr style=\"text-align: right;\">\n",
       "      <th></th>\n",
       "      <th>jnr_sm_id</th>\n",
       "      <th>lead_id</th>\n",
       "      <th>lead_stage</th>\n",
       "      <th>call_status</th>\n",
       "      <th>call_reason</th>\n",
       "    </tr>\n",
       "  </thead>\n",
       "  <tbody>\n",
       "    <tr>\n",
       "      <th>0</th>\n",
       "      <td>JNR1001MG</td>\n",
       "      <td>USR1001</td>\n",
       "      <td>lead</td>\n",
       "      <td>successful</td>\n",
       "      <td>lead_introduction</td>\n",
       "    </tr>\n",
       "    <tr>\n",
       "      <th>1</th>\n",
       "      <td>JNR1001MG</td>\n",
       "      <td>USR1001</td>\n",
       "      <td>lead</td>\n",
       "      <td>successful</td>\n",
       "      <td>demo_schedule</td>\n",
       "    </tr>\n",
       "    <tr>\n",
       "      <th>2</th>\n",
       "      <td>JNR1001MG</td>\n",
       "      <td>USR1002</td>\n",
       "      <td>lead</td>\n",
       "      <td>successful</td>\n",
       "      <td>lead_introduction</td>\n",
       "    </tr>\n",
       "    <tr>\n",
       "      <th>3</th>\n",
       "      <td>JNR1001MG</td>\n",
       "      <td>USR1002</td>\n",
       "      <td>lead</td>\n",
       "      <td>successful</td>\n",
       "      <td>demo_schedule</td>\n",
       "    </tr>\n",
       "    <tr>\n",
       "      <th>4</th>\n",
       "      <td>JNR1001MG</td>\n",
       "      <td>USR1002</td>\n",
       "      <td>awareness</td>\n",
       "      <td>successful</td>\n",
       "      <td>post_demo_followup</td>\n",
       "    </tr>\n",
       "  </tbody>\n",
       "</table>\n",
       "</div>"
      ],
      "text/plain": [
       "   jnr_sm_id  lead_id lead_stage call_status         call_reason\n",
       "0  JNR1001MG  USR1001       lead  successful   lead_introduction\n",
       "1  JNR1001MG  USR1001       lead  successful       demo_schedule\n",
       "2  JNR1001MG  USR1002       lead  successful   lead_introduction\n",
       "3  JNR1001MG  USR1002       lead  successful       demo_schedule\n",
       "4  JNR1001MG  USR1002  awareness  successful  post_demo_followup"
      ]
     },
     "execution_count": 29,
     "metadata": {},
     "output_type": "execute_result"
    }
   ],
   "source": [
    "df3 = df3.drop(['call_done_date'], axis =1)\n",
    "df3.head()"
   ]
  },
  {
   "cell_type": "code",
   "execution_count": 30,
   "id": "7f01516d",
   "metadata": {},
   "outputs": [
    {
     "name": "stdout",
     "output_type": "stream",
     "text": [
      "11\n"
     ]
    }
   ],
   "source": [
    "# Identify and drop duplicates\n",
    "print(df3.duplicated().sum())\n",
    "df3.drop_duplicates(inplace= True)"
   ]
  },
  {
   "cell_type": "code",
   "execution_count": 31,
   "id": "d12f809e",
   "metadata": {},
   "outputs": [],
   "source": [
    "# renaming the stages according the last stage each lead\n",
    "\n",
    "df3['lead_stage'].replace({'lead':'lead stage','lead-awareness':'Awareness stage',\n",
    "                           'lead-awareness-consideration':'consideration stage',\n",
    "                          'lead-awareness-consideration-coversion':'conversion stage'},\n",
    "                         inplace = True)"
   ]
  },
  {
   "cell_type": "code",
   "execution_count": 32,
   "id": "b7820a2a",
   "metadata": {},
   "outputs": [
    {
     "data": {
      "text/plain": [
       "lead stage       1196\n",
       "consideration     254\n",
       "awareness         229\n",
       "conversion         64\n",
       "Name: lead_stage, dtype: int64"
      ]
     },
     "execution_count": 32,
     "metadata": {},
     "output_type": "execute_result"
    }
   ],
   "source": [
    "#varifing\n",
    "df3.lead_stage.value_counts()"
   ]
  },
  {
   "cell_type": "markdown",
   "id": "ada77e1d",
   "metadata": {},
   "source": [
    "## Dataframe df4"
   ]
  },
  {
   "cell_type": "code",
   "execution_count": 33,
   "id": "72f1982b",
   "metadata": {},
   "outputs": [
    {
     "name": "stdout",
     "output_type": "stream",
     "text": [
      "<class 'pandas.core.frame.DataFrame'>\n",
      "RangeIndex: 294 entries, 0 to 293\n",
      "Data columns (total 4 columns):\n",
      " #   Column                                  Non-Null Count  Dtype \n",
      "---  ------                                  --------------  ----- \n",
      " 0   lead_id                                 294 non-null    object\n",
      " 1   reasons_for_not_interested_in_demo      164 non-null    object\n",
      " 2   reasons_for_not_interested_to_consider  79 non-null     object\n",
      " 3   reasons_for_not_interested_to_convert   51 non-null     object\n",
      "dtypes: object(4)\n",
      "memory usage: 9.3+ KB\n"
     ]
    }
   ],
   "source": [
    "df4.info()"
   ]
  },
  {
   "cell_type": "code",
   "execution_count": 34,
   "id": "b8d23d0b",
   "metadata": {},
   "outputs": [],
   "source": [
    "# Replacing Null values with an empty string\n",
    "df4['reasons_for_not_interested_in_demo'] = df4['reasons_for_not_interested_in_demo'].fillna('')\n",
    "df4['reasons_for_not_interested_to_consider'] = df4['reasons_for_not_interested_to_consider'].fillna('')\n",
    "df4['reasons_for_not_interested_to_convert'] = df4['reasons_for_not_interested_to_convert'].fillna('')"
   ]
  },
  {
   "cell_type": "code",
   "execution_count": 35,
   "id": "63177b80",
   "metadata": {},
   "outputs": [],
   "source": [
    "# Combine all the values in the existing columns and store them in the new column.\n",
    "df4['Reason_for_not_interested'] = df4['reasons_for_not_interested_in_demo'] + df4['reasons_for_not_interested_to_consider'] + df4['reasons_for_not_interested_to_convert']"
   ]
  },
  {
   "cell_type": "code",
   "execution_count": 36,
   "id": "83b05cdb",
   "metadata": {},
   "outputs": [],
   "source": [
    "# Drop the redundant columns that are no longer required for analysis\n",
    "df4 = df4.drop(['reasons_for_not_interested_in_demo','reasons_for_not_interested_to_consider', 'reasons_for_not_interested_to_convert'], axis=1)"
   ]
  },
  {
   "cell_type": "code",
   "execution_count": 37,
   "id": "21e8465f",
   "metadata": {},
   "outputs": [
    {
     "name": "stdout",
     "output_type": "stream",
     "text": [
      "<class 'pandas.core.frame.DataFrame'>\n",
      "RangeIndex: 294 entries, 0 to 293\n",
      "Data columns (total 2 columns):\n",
      " #   Column                     Non-Null Count  Dtype \n",
      "---  ------                     --------------  ----- \n",
      " 0   lead_id                    294 non-null    object\n",
      " 1   Reason_for_not_interested  294 non-null    object\n",
      "dtypes: object(2)\n",
      "memory usage: 4.7+ KB\n"
     ]
    }
   ],
   "source": [
    "df4.info()"
   ]
  },
  {
   "cell_type": "code",
   "execution_count": 38,
   "id": "bee2abc8",
   "metadata": {},
   "outputs": [
    {
     "data": {
      "text/plain": [
       "Can't afford                        95\n",
       "Wants offline classes               91\n",
       "Student not interested in domain    52\n",
       "No time for student                 38\n",
       "Will join in final year             14\n",
       "Cannot afford                        4\n",
       "Name: Reason_for_not_interested, dtype: int64"
      ]
     },
     "execution_count": 38,
     "metadata": {},
     "output_type": "execute_result"
    }
   ],
   "source": [
    "df4.Reason_for_not_interested.value_counts()"
   ]
  },
  {
   "cell_type": "code",
   "execution_count": 39,
   "id": "4d9dedbc",
   "metadata": {},
   "outputs": [],
   "source": [
    "df4['Reason_for_not_interested'].replace({\"can't afford\":'cannot afford'},inplace = True)"
   ]
  },
  {
   "cell_type": "markdown",
   "id": "38d2402a",
   "metadata": {},
   "source": [
    "## Dataframe df5"
   ]
  },
  {
   "cell_type": "code",
   "execution_count": 40,
   "id": "3bc03f83",
   "metadata": {},
   "outputs": [
    {
     "name": "stdout",
     "output_type": "stream",
     "text": [
      "<class 'pandas.core.frame.DataFrame'>\n",
      "RangeIndex: 360 entries, 0 to 359\n",
      "Data columns (total 5 columns):\n",
      " #   Column         Non-Null Count  Dtype \n",
      "---  ------         --------------  ----- \n",
      " 0   snr_sm_id      360 non-null    object\n",
      " 1   jnr_sm_id      360 non-null    object\n",
      " 2   assigned_date  360 non-null    object\n",
      " 3   cycle          360 non-null    int64 \n",
      " 4   lead_id        360 non-null    object\n",
      "dtypes: int64(1), object(4)\n",
      "memory usage: 14.2+ KB\n"
     ]
    }
   ],
   "source": [
    "df5.info()"
   ]
  },
  {
   "cell_type": "code",
   "execution_count": 41,
   "id": "2b3f3ec7",
   "metadata": {},
   "outputs": [],
   "source": [
    "df5 = df5.drop(['assigned_date'], axis =1)"
   ]
  },
  {
   "cell_type": "code",
   "execution_count": 42,
   "id": "b4e5ea52",
   "metadata": {},
   "outputs": [],
   "source": [
    "# Removeing the outliers identified in df2 from df5\n",
    "df5 = df5.drop([df1_outlier.index[0], df1_outlier.index[1],df2_outlier.index[0], df2_outlier.index[1]])"
   ]
  },
  {
   "cell_type": "code",
   "execution_count": null,
   "id": "1554809b",
   "metadata": {},
   "outputs": [],
   "source": []
  },
  {
   "cell_type": "code",
   "execution_count": 43,
   "id": "6b2c8220",
   "metadata": {},
   "outputs": [
    {
     "name": "stdout",
     "output_type": "stream",
     "text": [
      "SHAPE OF  DATASETS:-- \n",
      "\n",
      "leads_basic_details1:  (358, 7)\n",
      "leads_deamo_watched_details2:  (192, 3)\n",
      "leads_interaction_details3:  (1743, 5)\n",
      "leads_reasion_for_no_interest4:  (294, 2)\n",
      "sales_managers_assigned_leads_details5:  (356, 4)\n"
     ]
    }
   ],
   "source": [
    "print ('SHAPE OF  DATASETS:-- \\n')\n",
    "print ('leads_basic_details1: ',df1.shape)\n",
    "print ('leads_deamo_watched_details2: ',df2.shape)\n",
    "print ('leads_interaction_details3: ',df3.shape)\n",
    "print ('leads_reasion_for_no_interest4: ',df4.shape)\n",
    "print ('sales_managers_assigned_leads_details5: ',df5.shape)"
   ]
  },
  {
   "cell_type": "code",
   "execution_count": 44,
   "id": "3188e168",
   "metadata": {},
   "outputs": [
    {
     "name": "stdout",
     "output_type": "stream",
     "text": [
      "<class 'pandas.core.frame.DataFrame'>\n",
      "Int64Index: 1734 entries, 0 to 1733\n",
      "Data columns (total 11 columns):\n",
      " #   Column             Non-Null Count  Dtype \n",
      "---  ------             --------------  ----- \n",
      " 0   lead_id            1734 non-null   object\n",
      " 1   age                1734 non-null   int64 \n",
      " 2   gender             1734 non-null   object\n",
      " 3   current_city       1734 non-null   object\n",
      " 4   current_education  1734 non-null   object\n",
      " 5   parent_occupation  1734 non-null   object\n",
      " 6   lead_gen_source    1734 non-null   object\n",
      " 7   jnr_sm_id          1734 non-null   object\n",
      " 8   lead_stage         1734 non-null   object\n",
      " 9   call_status        1734 non-null   object\n",
      " 10  call_reason        1734 non-null   object\n",
      "dtypes: int64(1), object(10)\n",
      "memory usage: 162.6+ KB\n"
     ]
    }
   ],
   "source": [
    "L1 = pd.merge(df1,df3)\n",
    "L1.info()"
   ]
  },
  {
   "cell_type": "code",
   "execution_count": 45,
   "id": "08eaf3d3",
   "metadata": {},
   "outputs": [
    {
     "name": "stdout",
     "output_type": "stream",
     "text": [
      "<class 'pandas.core.frame.DataFrame'>\n",
      "Int64Index: 1726 entries, 0 to 1725\n",
      "Data columns (total 13 columns):\n",
      " #   Column             Non-Null Count  Dtype \n",
      "---  ------             --------------  ----- \n",
      " 0   lead_id            1726 non-null   object\n",
      " 1   age                1726 non-null   int64 \n",
      " 2   gender             1726 non-null   object\n",
      " 3   current_city       1726 non-null   object\n",
      " 4   current_education  1726 non-null   object\n",
      " 5   parent_occupation  1726 non-null   object\n",
      " 6   lead_gen_source    1726 non-null   object\n",
      " 7   jnr_sm_id          1726 non-null   object\n",
      " 8   lead_stage         1726 non-null   object\n",
      " 9   call_status        1726 non-null   object\n",
      " 10  call_reason        1726 non-null   object\n",
      " 11  snr_sm_id          1726 non-null   object\n",
      " 12  cycle              1726 non-null   int64 \n",
      "dtypes: int64(2), object(11)\n",
      "memory usage: 188.8+ KB\n"
     ]
    }
   ],
   "source": [
    "L2 = pd.merge(L1,df5)\n",
    "L2.info()"
   ]
  },
  {
   "cell_type": "code",
   "execution_count": 46,
   "id": "892d8200",
   "metadata": {},
   "outputs": [
    {
     "name": "stdout",
     "output_type": "stream",
     "text": [
      "<class 'pandas.core.frame.DataFrame'>\n",
      "Int64Index: 1726 entries, 0 to 1725\n",
      "Data columns (total 14 columns):\n",
      " #   Column                     Non-Null Count  Dtype \n",
      "---  ------                     --------------  ----- \n",
      " 0   lead_id                    1726 non-null   object\n",
      " 1   age                        1726 non-null   int64 \n",
      " 2   gender                     1726 non-null   object\n",
      " 3   current_city               1726 non-null   object\n",
      " 4   current_education          1726 non-null   object\n",
      " 5   parent_occupation          1726 non-null   object\n",
      " 6   lead_gen_source            1726 non-null   object\n",
      " 7   jnr_sm_id                  1726 non-null   object\n",
      " 8   lead_stage                 1726 non-null   object\n",
      " 9   call_status                1726 non-null   object\n",
      " 10  call_reason                1726 non-null   object\n",
      " 11  snr_sm_id                  1726 non-null   object\n",
      " 12  cycle                      1726 non-null   int64 \n",
      " 13  Reason_for_not_interested  1205 non-null   object\n",
      "dtypes: int64(2), object(12)\n",
      "memory usage: 202.3+ KB\n"
     ]
    }
   ],
   "source": [
    "L3 = pd.merge(L2, df4, how = 'left', on='lead_id')\n",
    "L3.info()"
   ]
  },
  {
   "cell_type": "code",
   "execution_count": 47,
   "id": "27fa38a3",
   "metadata": {},
   "outputs": [],
   "source": [
    "L3['Reason_for_not_interested'] = L3['Reason_for_not_interested'].fillna('Shown interest')"
   ]
  },
  {
   "cell_type": "code",
   "execution_count": 48,
   "id": "9dd4c31d",
   "metadata": {},
   "outputs": [
    {
     "name": "stdout",
     "output_type": "stream",
     "text": [
      "<class 'pandas.core.frame.DataFrame'>\n",
      "Int64Index: 1726 entries, 0 to 1725\n",
      "Data columns (total 14 columns):\n",
      " #   Column                     Non-Null Count  Dtype \n",
      "---  ------                     --------------  ----- \n",
      " 0   lead_id                    1726 non-null   object\n",
      " 1   age                        1726 non-null   int64 \n",
      " 2   gender                     1726 non-null   object\n",
      " 3   current_city               1726 non-null   object\n",
      " 4   current_education          1726 non-null   object\n",
      " 5   parent_occupation          1726 non-null   object\n",
      " 6   lead_gen_source            1726 non-null   object\n",
      " 7   jnr_sm_id                  1726 non-null   object\n",
      " 8   lead_stage                 1726 non-null   object\n",
      " 9   call_status                1726 non-null   object\n",
      " 10  call_reason                1726 non-null   object\n",
      " 11  snr_sm_id                  1726 non-null   object\n",
      " 12  cycle                      1726 non-null   int64 \n",
      " 13  Reason_for_not_interested  1726 non-null   object\n",
      "dtypes: int64(2), object(12)\n",
      "memory usage: 202.3+ KB\n"
     ]
    }
   ],
   "source": [
    "L3.info()"
   ]
  },
  {
   "cell_type": "code",
   "execution_count": 49,
   "id": "0f04960c",
   "metadata": {},
   "outputs": [
    {
     "name": "stdout",
     "output_type": "stream",
     "text": [
      "<class 'pandas.core.frame.DataFrame'>\n",
      "Int64Index: 1726 entries, 0 to 1725\n",
      "Data columns (total 16 columns):\n",
      " #   Column                     Non-Null Count  Dtype  \n",
      "---  ------                     --------------  -----  \n",
      " 0   lead_id                    1726 non-null   object \n",
      " 1   age                        1726 non-null   int64  \n",
      " 2   gender                     1726 non-null   object \n",
      " 3   current_city               1726 non-null   object \n",
      " 4   current_education          1726 non-null   object \n",
      " 5   parent_occupation          1726 non-null   object \n",
      " 6   lead_gen_source            1726 non-null   object \n",
      " 7   jnr_sm_id                  1726 non-null   object \n",
      " 8   lead_stage                 1726 non-null   object \n",
      " 9   call_status                1726 non-null   object \n",
      " 10  call_reason                1726 non-null   object \n",
      " 11  snr_sm_id                  1726 non-null   object \n",
      " 12  cycle                      1726 non-null   int64  \n",
      " 13  Reason_for_not_interested  1726 non-null   object \n",
      " 14  language                   1222 non-null   object \n",
      " 15  watched_percentage         1222 non-null   float64\n",
      "dtypes: float64(1), int64(2), object(13)\n",
      "memory usage: 229.2+ KB\n"
     ]
    }
   ],
   "source": [
    "L4 = pd.merge(L3,df2,how='left',on='lead_id')\n",
    "L4.info()"
   ]
  },
  {
   "cell_type": "code",
   "execution_count": 50,
   "id": "e2c8b1ea",
   "metadata": {},
   "outputs": [],
   "source": [
    "L4['language'] = L4['language'].fillna('info Unavailable')"
   ]
  },
  {
   "cell_type": "code",
   "execution_count": 51,
   "id": "f4ef1223",
   "metadata": {},
   "outputs": [],
   "source": [
    "L4['watched_percentage'] = L4['watched_percentage'].fillna('0')"
   ]
  },
  {
   "cell_type": "code",
   "execution_count": 52,
   "id": "a6c5cd6c",
   "metadata": {},
   "outputs": [
    {
     "name": "stdout",
     "output_type": "stream",
     "text": [
      "<class 'pandas.core.frame.DataFrame'>\n",
      "Int64Index: 1726 entries, 0 to 1725\n",
      "Data columns (total 16 columns):\n",
      " #   Column                     Non-Null Count  Dtype \n",
      "---  ------                     --------------  ----- \n",
      " 0   lead_id                    1726 non-null   object\n",
      " 1   age                        1726 non-null   int64 \n",
      " 2   gender                     1726 non-null   object\n",
      " 3   current_city               1726 non-null   object\n",
      " 4   current_education          1726 non-null   object\n",
      " 5   parent_occupation          1726 non-null   object\n",
      " 6   lead_gen_source            1726 non-null   object\n",
      " 7   jnr_sm_id                  1726 non-null   object\n",
      " 8   lead_stage                 1726 non-null   object\n",
      " 9   call_status                1726 non-null   object\n",
      " 10  call_reason                1726 non-null   object\n",
      " 11  snr_sm_id                  1726 non-null   object\n",
      " 12  cycle                      1726 non-null   int64 \n",
      " 13  Reason_for_not_interested  1726 non-null   object\n",
      " 14  language                   1726 non-null   object\n",
      " 15  watched_percentage         1726 non-null   object\n",
      "dtypes: int64(2), object(14)\n",
      "memory usage: 229.2+ KB\n"
     ]
    }
   ],
   "source": [
    "L4.info()"
   ]
  },
  {
   "cell_type": "code",
   "execution_count": 53,
   "id": "eac5ca47",
   "metadata": {},
   "outputs": [
    {
     "data": {
      "text/plain": [
       "0"
      ]
     },
     "execution_count": 53,
     "metadata": {},
     "output_type": "execute_result"
    }
   ],
   "source": [
    "L4.duplicated().sum()"
   ]
  },
  {
   "cell_type": "code",
   "execution_count": 54,
   "id": "01510bc7",
   "metadata": {},
   "outputs": [],
   "source": [
    "L4['lead_status'] = np.where(L4['lead_stage'] == 'Conversion Stage','Converted Lead', 'Yet to convert Lead')"
   ]
  },
  {
   "cell_type": "code",
   "execution_count": 55,
   "id": "8e3d6ddc",
   "metadata": {},
   "outputs": [
    {
     "data": {
      "text/html": [
       "<div>\n",
       "<style scoped>\n",
       "    .dataframe tbody tr th:only-of-type {\n",
       "        vertical-align: middle;\n",
       "    }\n",
       "\n",
       "    .dataframe tbody tr th {\n",
       "        vertical-align: top;\n",
       "    }\n",
       "\n",
       "    .dataframe thead th {\n",
       "        text-align: right;\n",
       "    }\n",
       "</style>\n",
       "<table border=\"1\" class=\"dataframe\">\n",
       "  <thead>\n",
       "    <tr style=\"text-align: right;\">\n",
       "      <th></th>\n",
       "      <th>lead_id</th>\n",
       "      <th>age</th>\n",
       "      <th>gender</th>\n",
       "      <th>current_city</th>\n",
       "      <th>current_education</th>\n",
       "      <th>parent_occupation</th>\n",
       "      <th>lead_gen_source</th>\n",
       "      <th>jnr_sm_id</th>\n",
       "      <th>lead_stage</th>\n",
       "      <th>call_status</th>\n",
       "      <th>call_reason</th>\n",
       "      <th>snr_sm_id</th>\n",
       "      <th>cycle</th>\n",
       "      <th>Reason_for_not_interested</th>\n",
       "      <th>language</th>\n",
       "      <th>watched_percentage</th>\n",
       "      <th>lead_status</th>\n",
       "    </tr>\n",
       "  </thead>\n",
       "  <tbody>\n",
       "    <tr>\n",
       "      <th>0</th>\n",
       "      <td>USR1001</td>\n",
       "      <td>16</td>\n",
       "      <td>FEMALE</td>\n",
       "      <td>Hyderabad</td>\n",
       "      <td>Intermediate</td>\n",
       "      <td>Private Employee</td>\n",
       "      <td>social_media</td>\n",
       "      <td>JNR1001MG</td>\n",
       "      <td>lead stage</td>\n",
       "      <td>successful</td>\n",
       "      <td>lead_introduction</td>\n",
       "      <td>SNR501MG</td>\n",
       "      <td>1</td>\n",
       "      <td>No time for student</td>\n",
       "      <td>info Unavailable</td>\n",
       "      <td>0</td>\n",
       "      <td>Yet to convert Lead</td>\n",
       "    </tr>\n",
       "    <tr>\n",
       "      <th>1</th>\n",
       "      <td>USR1001</td>\n",
       "      <td>16</td>\n",
       "      <td>FEMALE</td>\n",
       "      <td>Hyderabad</td>\n",
       "      <td>Intermediate</td>\n",
       "      <td>Private Employee</td>\n",
       "      <td>social_media</td>\n",
       "      <td>JNR1001MG</td>\n",
       "      <td>lead stage</td>\n",
       "      <td>successful</td>\n",
       "      <td>demo_schedule</td>\n",
       "      <td>SNR501MG</td>\n",
       "      <td>1</td>\n",
       "      <td>No time for student</td>\n",
       "      <td>info Unavailable</td>\n",
       "      <td>0</td>\n",
       "      <td>Yet to convert Lead</td>\n",
       "    </tr>\n",
       "    <tr>\n",
       "      <th>2</th>\n",
       "      <td>USR1002</td>\n",
       "      <td>20</td>\n",
       "      <td>MALE</td>\n",
       "      <td>Bengaluru</td>\n",
       "      <td>B.Tech</td>\n",
       "      <td>Business</td>\n",
       "      <td>user_referrals</td>\n",
       "      <td>JNR1001MG</td>\n",
       "      <td>lead stage</td>\n",
       "      <td>successful</td>\n",
       "      <td>lead_introduction</td>\n",
       "      <td>SNR501MG</td>\n",
       "      <td>1</td>\n",
       "      <td>Shown interest</td>\n",
       "      <td>Telugu</td>\n",
       "      <td>42.0</td>\n",
       "      <td>Yet to convert Lead</td>\n",
       "    </tr>\n",
       "    <tr>\n",
       "      <th>3</th>\n",
       "      <td>USR1002</td>\n",
       "      <td>20</td>\n",
       "      <td>MALE</td>\n",
       "      <td>Bengaluru</td>\n",
       "      <td>B.Tech</td>\n",
       "      <td>Business</td>\n",
       "      <td>user_referrals</td>\n",
       "      <td>JNR1001MG</td>\n",
       "      <td>lead stage</td>\n",
       "      <td>successful</td>\n",
       "      <td>demo_schedule</td>\n",
       "      <td>SNR501MG</td>\n",
       "      <td>1</td>\n",
       "      <td>Shown interest</td>\n",
       "      <td>Telugu</td>\n",
       "      <td>42.0</td>\n",
       "      <td>Yet to convert Lead</td>\n",
       "    </tr>\n",
       "    <tr>\n",
       "      <th>4</th>\n",
       "      <td>USR1002</td>\n",
       "      <td>20</td>\n",
       "      <td>MALE</td>\n",
       "      <td>Bengaluru</td>\n",
       "      <td>B.Tech</td>\n",
       "      <td>Business</td>\n",
       "      <td>user_referrals</td>\n",
       "      <td>JNR1001MG</td>\n",
       "      <td>awareness</td>\n",
       "      <td>successful</td>\n",
       "      <td>post_demo_followup</td>\n",
       "      <td>SNR501MG</td>\n",
       "      <td>1</td>\n",
       "      <td>Shown interest</td>\n",
       "      <td>Telugu</td>\n",
       "      <td>42.0</td>\n",
       "      <td>Yet to convert Lead</td>\n",
       "    </tr>\n",
       "  </tbody>\n",
       "</table>\n",
       "</div>"
      ],
      "text/plain": [
       "   lead_id  age  gender current_city current_education parent_occupation  \\\n",
       "0  USR1001   16  FEMALE    Hyderabad      Intermediate  Private Employee   \n",
       "1  USR1001   16  FEMALE    Hyderabad      Intermediate  Private Employee   \n",
       "2  USR1002   20    MALE    Bengaluru            B.Tech          Business   \n",
       "3  USR1002   20    MALE    Bengaluru            B.Tech          Business   \n",
       "4  USR1002   20    MALE    Bengaluru            B.Tech          Business   \n",
       "\n",
       "  lead_gen_source  jnr_sm_id  lead_stage call_status         call_reason  \\\n",
       "0    social_media  JNR1001MG  lead stage  successful   lead_introduction   \n",
       "1    social_media  JNR1001MG  lead stage  successful       demo_schedule   \n",
       "2  user_referrals  JNR1001MG  lead stage  successful   lead_introduction   \n",
       "3  user_referrals  JNR1001MG  lead stage  successful       demo_schedule   \n",
       "4  user_referrals  JNR1001MG   awareness  successful  post_demo_followup   \n",
       "\n",
       "  snr_sm_id  cycle Reason_for_not_interested          language  \\\n",
       "0  SNR501MG      1       No time for student  info Unavailable   \n",
       "1  SNR501MG      1       No time for student  info Unavailable   \n",
       "2  SNR501MG      1            Shown interest            Telugu   \n",
       "3  SNR501MG      1            Shown interest            Telugu   \n",
       "4  SNR501MG      1            Shown interest            Telugu   \n",
       "\n",
       "  watched_percentage          lead_status  \n",
       "0                  0  Yet to convert Lead  \n",
       "1                  0  Yet to convert Lead  \n",
       "2               42.0  Yet to convert Lead  \n",
       "3               42.0  Yet to convert Lead  \n",
       "4               42.0  Yet to convert Lead  "
      ]
     },
     "execution_count": 55,
     "metadata": {},
     "output_type": "execute_result"
    }
   ],
   "source": [
    "L4.head()"
   ]
  },
  {
   "cell_type": "markdown",
   "id": "0768da8c",
   "metadata": {},
   "source": [
    "## Analysis"
   ]
  },
  {
   "cell_type": "code",
   "execution_count": 56,
   "id": "17700293",
   "metadata": {},
   "outputs": [
    {
     "data": {
      "text/plain": [
       "Text(4.944444444444445, 0.5, 'No of leads')"
      ]
     },
     "execution_count": 56,
     "metadata": {},
     "output_type": "execute_result"
    },
    {
     "data": {
      "image/png": "[encoded data removed]",
      "text/plain": [
       "<Figure size 500x500 with 1 Axes>"
      ]
     },
     "metadata": {},
     "output_type": "display_data"
    }
   ],
   "source": [
    "sns.displot(L4[\"age\"],palette=\"Blues_d\")\n",
    "plt.title('Age Distribution',fontsize = 18)\n",
    "plt.xlabel('Age',fontsize =16)\n",
    "plt.ylabel('No of leads', fontsize=16)"
   ]
  },
  {
   "cell_type": "markdown",
   "id": "97c3be22",
   "metadata": {},
   "source": [
    "#### from the plot we can observe te maximum no leads are 18 to 20 years old."
   ]
  },
  {
   "cell_type": "code",
   "execution_count": 57,
   "id": "48fadd30",
   "metadata": {},
   "outputs": [
    {
     "data": {
      "text/plain": [
       "FEMALE    985\n",
       "MALE      741\n",
       "Name: gender, dtype: int64"
      ]
     },
     "execution_count": 57,
     "metadata": {},
     "output_type": "execute_result"
    },
    {
     "data": {
      "image/png": "[encoded data removed]",
      "text/plain": [
       "<Figure size 640x480 with 1 Axes>"
      ]
     },
     "metadata": {},
     "output_type": "display_data"
    }
   ],
   "source": [
    "ax = L4.groupby('gender').size().plot(kind='pie',autopct='%.2f', y='lead_id',ylabel='')\n",
    "L4[\"gender\"].value_counts()"
   ]
  },
  {
   "cell_type": "markdown",
   "id": "148d1939",
   "metadata": {},
   "source": [
    "##### from the pie chart mentioned there are more number of female leads than male lead."
   ]
  },
  {
   "cell_type": "code",
   "execution_count": 58,
   "id": "105bb0d9",
   "metadata": {},
   "outputs": [
    {
     "data": {
      "text/plain": [
       "Text(0.5, 1.0, 'current Education')"
      ]
     },
     "execution_count": 58,
     "metadata": {},
     "output_type": "execute_result"
    },
    {
     "data": {
      "image/png": "[encoded data removed]",
      "text/plain": [
       "<Figure size 640x480 with 1 Axes>"
      ]
     },
     "metadata": {},
     "output_type": "display_data"
    }
   ],
   "source": [
    "ax = L4.groupby('current_education').size().plot(kind='pie',autopct='%.2f',y='lead_id',ylabel='')\n",
    "ax.set_title(\"current Education\")"
   ]
  },
  {
   "cell_type": "markdown",
   "id": "aa2ebc27",
   "metadata": {},
   "source": [
    "#### from the above chart we can observe majority of leads are pursuing higher education or are in search of job."
   ]
  },
  {
   "cell_type": "code",
   "execution_count": 59,
   "id": "7ad419d4",
   "metadata": {},
   "outputs": [
    {
     "data": {
      "text/plain": [
       "Text(0.5, 1.0, 'lead source')"
      ]
     },
     "execution_count": 59,
     "metadata": {},
     "output_type": "execute_result"
    },
    {
     "data": {
      "image/png": "[encoded data removed]",
      "text/plain": [
       "<Figure size 640x480 with 1 Axes>"
      ]
     },
     "metadata": {},
     "output_type": "display_data"
    }
   ],
   "source": [
    "ax = L4.groupby('lead_gen_source').size().plot(kind='pie',autopct='%2f',y='lead_id',ylabel='')\n",
    "ax.set_title(\"lead source\")"
   ]
  },
  {
   "cell_type": "markdown",
   "id": "0e988201",
   "metadata": {},
   "source": [
    "#### Around 24% of the leads came to know about the firm through socilmedia.other major source contributing are SEO and email_marketing  with contribute around  20% each."
   ]
  },
  {
   "cell_type": "code",
   "execution_count": 60,
   "id": "54fceb65",
   "metadata": {},
   "outputs": [
    {
     "data": {
      "text/plain": [
       "Text(13.819444444444445, 0.5, 'No of Leads watched video')"
      ]
     },
     "execution_count": 60,
     "metadata": {},
     "output_type": "execute_result"
    },
    {
     "data": {
      "image/png": "[encoded data removed]",
      "text/plain": [
       "<Figure size 500x500 with 1 Axes>"
      ]
     },
     "metadata": {},
     "output_type": "display_data"
    }
   ],
   "source": [
    "sns.displot(df2.watched_percentage, palette=\"Blues_d\",kde=True)\n",
    "plt.title('watched percentage' , fontsize=18)\n",
    "plt.xlabel('Demo Video Length in %', fontsize =16)\n",
    "plt.ylabel('No of Leads watched video', fontsize =16)"
   ]
  },
  {
   "cell_type": "markdown",
   "id": "a42fefc9",
   "metadata": {},
   "source": [
    "#### from the graph we can say more than 35 leads watched around 70-80% of the video.Around 10 leads watched deamo video. Through analysing the curve we can say majority of the leads population watch demo video over 40%"
   ]
  },
  {
   "cell_type": "code",
   "execution_count": 61,
   "id": "69566cdc",
   "metadata": {},
   "outputs": [
    {
     "data": {
      "text/html": [
       "<div>\n",
       "<style scoped>\n",
       "    .dataframe tbody tr th:only-of-type {\n",
       "        vertical-align: middle;\n",
       "    }\n",
       "\n",
       "    .dataframe tbody tr th {\n",
       "        vertical-align: top;\n",
       "    }\n",
       "\n",
       "    .dataframe thead th {\n",
       "        text-align: right;\n",
       "    }\n",
       "</style>\n",
       "<table border=\"1\" class=\"dataframe\">\n",
       "  <thead>\n",
       "    <tr style=\"text-align: right;\">\n",
       "      <th></th>\n",
       "      <th>lead_id</th>\n",
       "      <th>language</th>\n",
       "      <th>watched_percentage</th>\n",
       "      <th>age</th>\n",
       "      <th>gender</th>\n",
       "      <th>current_city</th>\n",
       "      <th>current_education</th>\n",
       "      <th>parent_occupation</th>\n",
       "      <th>lead_gen_source</th>\n",
       "    </tr>\n",
       "  </thead>\n",
       "  <tbody>\n",
       "    <tr>\n",
       "      <th>0</th>\n",
       "      <td>USR1002</td>\n",
       "      <td>Telugu</td>\n",
       "      <td>42</td>\n",
       "      <td>20</td>\n",
       "      <td>MALE</td>\n",
       "      <td>Bengaluru</td>\n",
       "      <td>B.Tech</td>\n",
       "      <td>Business</td>\n",
       "      <td>user_referrals</td>\n",
       "    </tr>\n",
       "    <tr>\n",
       "      <th>1</th>\n",
       "      <td>USR1003</td>\n",
       "      <td>Telugu</td>\n",
       "      <td>81</td>\n",
       "      <td>20</td>\n",
       "      <td>FEMALE</td>\n",
       "      <td>Visakhapatnam</td>\n",
       "      <td>B.Tech</td>\n",
       "      <td>Lawyer</td>\n",
       "      <td>user_referrals</td>\n",
       "    </tr>\n",
       "    <tr>\n",
       "      <th>2</th>\n",
       "      <td>USR1004</td>\n",
       "      <td>Telugu</td>\n",
       "      <td>35</td>\n",
       "      <td>16</td>\n",
       "      <td>MALE</td>\n",
       "      <td>Mumbai</td>\n",
       "      <td>Intermediate</td>\n",
       "      <td>IT Employee</td>\n",
       "      <td>user_referrals</td>\n",
       "    </tr>\n",
       "    <tr>\n",
       "      <th>3</th>\n",
       "      <td>USR1005</td>\n",
       "      <td>Hindi</td>\n",
       "      <td>38</td>\n",
       "      <td>16</td>\n",
       "      <td>MALE</td>\n",
       "      <td>Chennai</td>\n",
       "      <td>Intermediate</td>\n",
       "      <td>Government Employee</td>\n",
       "      <td>user_referrals</td>\n",
       "    </tr>\n",
       "    <tr>\n",
       "      <th>4</th>\n",
       "      <td>USR1006</td>\n",
       "      <td>Hindi</td>\n",
       "      <td>54</td>\n",
       "      <td>16</td>\n",
       "      <td>MALE</td>\n",
       "      <td>Kochi</td>\n",
       "      <td>Intermediate</td>\n",
       "      <td>Doctor</td>\n",
       "      <td>user_referrals</td>\n",
       "    </tr>\n",
       "  </tbody>\n",
       "</table>\n",
       "</div>"
      ],
      "text/plain": [
       "   lead_id language  watched_percentage  age  gender   current_city  \\\n",
       "0  USR1002   Telugu                  42   20    MALE      Bengaluru   \n",
       "1  USR1003   Telugu                  81   20  FEMALE  Visakhapatnam   \n",
       "2  USR1004   Telugu                  35   16    MALE         Mumbai   \n",
       "3  USR1005    Hindi                  38   16    MALE        Chennai   \n",
       "4  USR1006    Hindi                  54   16    MALE          Kochi   \n",
       "\n",
       "  current_education    parent_occupation lead_gen_source  \n",
       "0            B.Tech             Business  user_referrals  \n",
       "1            B.Tech               Lawyer  user_referrals  \n",
       "2      Intermediate          IT Employee  user_referrals  \n",
       "3      Intermediate  Government Employee  user_referrals  \n",
       "4      Intermediate               Doctor  user_referrals  "
      ]
     },
     "execution_count": 61,
     "metadata": {},
     "output_type": "execute_result"
    }
   ],
   "source": [
    "merged_leads_demo = pd.merge(df2,df1, how= 'inner',on = 'lead_id')\n",
    "merged_leads_demo .head(5)"
   ]
  },
  {
   "cell_type": "code",
   "execution_count": 62,
   "id": "4601011f",
   "metadata": {},
   "outputs": [
    {
     "data": {
      "text/plain": [
       "language  current_city \n",
       "English   Bengaluru        22\n",
       "          Chennai          17\n",
       "          Hyderabad        20\n",
       "          Kochi            19\n",
       "          Mumbai           11\n",
       "          Visakhapatnam    22\n",
       "Hindi     Bengaluru         3\n",
       "          Chennai           6\n",
       "          Hyderabad         3\n",
       "          Kochi             4\n",
       "          Mumbai            1\n",
       "          Visakhapatnam     2\n",
       "Telugu    Bengaluru         7\n",
       "          Chennai           7\n",
       "          Hyderabad        17\n",
       "          Kochi             8\n",
       "          Mumbai            7\n",
       "          Visakhapatnam    15\n",
       "dtype: int64"
      ]
     },
     "execution_count": 62,
     "metadata": {},
     "output_type": "execute_result"
    }
   ],
   "source": [
    "merged_leads_demo.groupby(['language', 'current_city']).size()"
   ]
  },
  {
   "cell_type": "markdown",
   "id": "68a401e5",
   "metadata": {},
   "source": [
    "#### English language is dominant while Telugu is majorly being used in Hydrerabad and Vishakapatnam"
   ]
  },
  {
   "cell_type": "code",
   "execution_count": 63,
   "id": "be2199ea",
   "metadata": {},
   "outputs": [
    {
     "data": {
      "text/plain": [
       "Text(0.5, 1.0, 'Demo Language')"
      ]
     },
     "execution_count": 63,
     "metadata": {},
     "output_type": "execute_result"
    },
    {
     "data": {
      "image/png": "[encoded data removed]",
      "text/plain": [
       "<Figure size 640x480 with 1 Axes>"
      ]
     },
     "metadata": {},
     "output_type": "display_data"
    }
   ],
   "source": [
    "ax = merged_leads_demo.groupby('language').size().plot(kind='pie',autopct='%2f', y='lead_id', ylabel='')\n",
    "ax.set_title(\"Demo Language\")"
   ]
  },
  {
   "cell_type": "markdown",
   "id": "312d64d4",
   "metadata": {},
   "source": [
    "#### From the pie we can consider around 58% of customers prefer watching Demo video in English making it the major language.Around 32% of leads population prefer  watching Demo in Telegu and the remaining 10% prefer Hindi."
   ]
  },
  {
   "cell_type": "code",
   "execution_count": 64,
   "id": "b7bac4ae",
   "metadata": {},
   "outputs": [
    {
     "data": {
      "text/html": [
       "<div>\n",
       "<style scoped>\n",
       "    .dataframe tbody tr th:only-of-type {\n",
       "        vertical-align: middle;\n",
       "    }\n",
       "\n",
       "    .dataframe tbody tr th {\n",
       "        vertical-align: top;\n",
       "    }\n",
       "\n",
       "    .dataframe thead th {\n",
       "        text-align: right;\n",
       "    }\n",
       "</style>\n",
       "<table border=\"1\" class=\"dataframe\">\n",
       "  <thead>\n",
       "    <tr style=\"text-align: right;\">\n",
       "      <th></th>\n",
       "      <th>lead_id</th>\n",
       "      <th>language</th>\n",
       "      <th>watched_percentage</th>\n",
       "      <th>jnr_sm_id</th>\n",
       "      <th>lead_stage</th>\n",
       "      <th>call_status</th>\n",
       "      <th>call_reason</th>\n",
       "    </tr>\n",
       "  </thead>\n",
       "  <tbody>\n",
       "    <tr>\n",
       "      <th>0</th>\n",
       "      <td>USR1002</td>\n",
       "      <td>Telugu</td>\n",
       "      <td>42</td>\n",
       "      <td>JNR1001MG</td>\n",
       "      <td>lead stage</td>\n",
       "      <td>successful</td>\n",
       "      <td>lead_introduction</td>\n",
       "    </tr>\n",
       "    <tr>\n",
       "      <th>1</th>\n",
       "      <td>USR1002</td>\n",
       "      <td>Telugu</td>\n",
       "      <td>42</td>\n",
       "      <td>JNR1001MG</td>\n",
       "      <td>lead stage</td>\n",
       "      <td>successful</td>\n",
       "      <td>demo_schedule</td>\n",
       "    </tr>\n",
       "    <tr>\n",
       "      <th>2</th>\n",
       "      <td>USR1002</td>\n",
       "      <td>Telugu</td>\n",
       "      <td>42</td>\n",
       "      <td>JNR1001MG</td>\n",
       "      <td>awareness</td>\n",
       "      <td>successful</td>\n",
       "      <td>post_demo_followup</td>\n",
       "    </tr>\n",
       "    <tr>\n",
       "      <th>3</th>\n",
       "      <td>USR1002</td>\n",
       "      <td>Telugu</td>\n",
       "      <td>42</td>\n",
       "      <td>JNR1001MG</td>\n",
       "      <td>awareness</td>\n",
       "      <td>successful</td>\n",
       "      <td>followup_for_consideration</td>\n",
       "    </tr>\n",
       "    <tr>\n",
       "      <th>4</th>\n",
       "      <td>USR1002</td>\n",
       "      <td>Telugu</td>\n",
       "      <td>42</td>\n",
       "      <td>JNR1001MG</td>\n",
       "      <td>consideration</td>\n",
       "      <td>successful</td>\n",
       "      <td>interested_for_conversion</td>\n",
       "    </tr>\n",
       "    <tr>\n",
       "      <th>...</th>\n",
       "      <td>...</td>\n",
       "      <td>...</td>\n",
       "      <td>...</td>\n",
       "      <td>...</td>\n",
       "      <td>...</td>\n",
       "      <td>...</td>\n",
       "      <td>...</td>\n",
       "    </tr>\n",
       "    <tr>\n",
       "      <th>1227</th>\n",
       "      <td>USR1348</td>\n",
       "      <td>English</td>\n",
       "      <td>72</td>\n",
       "      <td>JNR1012MG</td>\n",
       "      <td>lead stage</td>\n",
       "      <td>successful</td>\n",
       "      <td>demo_not_attended</td>\n",
       "    </tr>\n",
       "    <tr>\n",
       "      <th>1228</th>\n",
       "      <td>USR1348</td>\n",
       "      <td>English</td>\n",
       "      <td>72</td>\n",
       "      <td>JNR1012MG</td>\n",
       "      <td>awareness</td>\n",
       "      <td>successful</td>\n",
       "      <td>post_demo_followup</td>\n",
       "    </tr>\n",
       "    <tr>\n",
       "      <th>1229</th>\n",
       "      <td>USR1348</td>\n",
       "      <td>English</td>\n",
       "      <td>72</td>\n",
       "      <td>JNR1012MG</td>\n",
       "      <td>awareness</td>\n",
       "      <td>successful</td>\n",
       "      <td>followup_for_consideration</td>\n",
       "    </tr>\n",
       "    <tr>\n",
       "      <th>1230</th>\n",
       "      <td>USR1348</td>\n",
       "      <td>English</td>\n",
       "      <td>72</td>\n",
       "      <td>JNR1012MG</td>\n",
       "      <td>consideration</td>\n",
       "      <td>successful</td>\n",
       "      <td>followup_for_conversion</td>\n",
       "    </tr>\n",
       "    <tr>\n",
       "      <th>1231</th>\n",
       "      <td>USR1348</td>\n",
       "      <td>English</td>\n",
       "      <td>72</td>\n",
       "      <td>JNR1012MG</td>\n",
       "      <td>consideration</td>\n",
       "      <td>successful</td>\n",
       "      <td>interested_for_conversion</td>\n",
       "    </tr>\n",
       "  </tbody>\n",
       "</table>\n",
       "<p>1232 rows × 7 columns</p>\n",
       "</div>"
      ],
      "text/plain": [
       "      lead_id language  watched_percentage  jnr_sm_id     lead_stage  \\\n",
       "0     USR1002   Telugu                  42  JNR1001MG     lead stage   \n",
       "1     USR1002   Telugu                  42  JNR1001MG     lead stage   \n",
       "2     USR1002   Telugu                  42  JNR1001MG      awareness   \n",
       "3     USR1002   Telugu                  42  JNR1001MG      awareness   \n",
       "4     USR1002   Telugu                  42  JNR1001MG  consideration   \n",
       "...       ...      ...                 ...        ...            ...   \n",
       "1227  USR1348  English                  72  JNR1012MG     lead stage   \n",
       "1228  USR1348  English                  72  JNR1012MG      awareness   \n",
       "1229  USR1348  English                  72  JNR1012MG      awareness   \n",
       "1230  USR1348  English                  72  JNR1012MG  consideration   \n",
       "1231  USR1348  English                  72  JNR1012MG  consideration   \n",
       "\n",
       "     call_status                 call_reason  \n",
       "0     successful           lead_introduction  \n",
       "1     successful               demo_schedule  \n",
       "2     successful          post_demo_followup  \n",
       "3     successful  followup_for_consideration  \n",
       "4     successful   interested_for_conversion  \n",
       "...          ...                         ...  \n",
       "1227  successful           demo_not_attended  \n",
       "1228  successful          post_demo_followup  \n",
       "1229  successful  followup_for_consideration  \n",
       "1230  successful     followup_for_conversion  \n",
       "1231  successful   interested_for_conversion  \n",
       "\n",
       "[1232 rows x 7 columns]"
      ]
     },
     "execution_count": 64,
     "metadata": {},
     "output_type": "execute_result"
    }
   ],
   "source": [
    "merged_interaction_demo = pd.merge(df2, df3, how= 'inner',on= 'lead_id')\n",
    "merged_interaction_demo"
   ]
  },
  {
   "cell_type": "code",
   "execution_count": 65,
   "id": "5937b081",
   "metadata": {},
   "outputs": [
    {
     "data": {
      "text/plain": [
       "call_status   call_reason               \n",
       "successful    demo_not_attended             155\n",
       "              demo_schedule                 192\n",
       "              followup_for_consideration     30\n",
       "              followup_for_conversion       101\n",
       "              interested_for_conversion     113\n",
       "              lead_introduction             192\n",
       "              post_demo_followup            192\n",
       "              successful_conversion          63\n",
       "unsuccessful  demo_not_attended              45\n",
       "              demo_schedule                  15\n",
       "              followup_for_consideration      5\n",
       "              followup_for_conversion        19\n",
       "              interested_for_conversion      18\n",
       "              lead_introduction              92\n",
       "dtype: int64"
      ]
     },
     "execution_count": 65,
     "metadata": {},
     "output_type": "execute_result"
    }
   ],
   "source": [
    "merged_interaction_demo.groupby(['call_status','call_reason']).size()"
   ]
  },
  {
   "cell_type": "markdown",
   "id": "5dc0a6e9",
   "metadata": {},
   "source": [
    "#### sales manager require to focus on earlier stages of acquistion process. work need to done at the primary stage to imbibe curiosity amoung the leads to watch Demo videos."
   ]
  },
  {
   "cell_type": "code",
   "execution_count": 66,
   "id": "41575f3d",
   "metadata": {},
   "outputs": [
    {
     "data": {
      "text/html": [
       "<div>\n",
       "<style scoped>\n",
       "    .dataframe tbody tr th:only-of-type {\n",
       "        vertical-align: middle;\n",
       "    }\n",
       "\n",
       "    .dataframe tbody tr th {\n",
       "        vertical-align: top;\n",
       "    }\n",
       "\n",
       "    .dataframe thead th {\n",
       "        text-align: right;\n",
       "    }\n",
       "</style>\n",
       "<table border=\"1\" class=\"dataframe\">\n",
       "  <thead>\n",
       "    <tr style=\"text-align: right;\">\n",
       "      <th></th>\n",
       "      <th>lead_id</th>\n",
       "      <th>Reason_for_not_interested</th>\n",
       "    </tr>\n",
       "  </thead>\n",
       "  <tbody>\n",
       "    <tr>\n",
       "      <th>count</th>\n",
       "      <td>294</td>\n",
       "      <td>294</td>\n",
       "    </tr>\n",
       "    <tr>\n",
       "      <th>unique</th>\n",
       "      <td>294</td>\n",
       "      <td>6</td>\n",
       "    </tr>\n",
       "    <tr>\n",
       "      <th>top</th>\n",
       "      <td>USR1001</td>\n",
       "      <td>Can't afford</td>\n",
       "    </tr>\n",
       "    <tr>\n",
       "      <th>freq</th>\n",
       "      <td>1</td>\n",
       "      <td>95</td>\n",
       "    </tr>\n",
       "  </tbody>\n",
       "</table>\n",
       "</div>"
      ],
      "text/plain": [
       "        lead_id Reason_for_not_interested\n",
       "count       294                       294\n",
       "unique      294                         6\n",
       "top     USR1001              Can't afford\n",
       "freq          1                        95"
      ]
     },
     "execution_count": 66,
     "metadata": {},
     "output_type": "execute_result"
    }
   ],
   "source": [
    "df4.describe()"
   ]
  },
  {
   "cell_type": "markdown",
   "id": "fa637d23",
   "metadata": {},
   "source": [
    "#### from the table we observe There are 5 unique reasion for students not being interested of watch the major reason is the users can't afford. major reasons for leads dropping out are because of affrdibility issues."
   ]
  },
  {
   "cell_type": "code",
   "execution_count": 67,
   "id": "09ddfb39",
   "metadata": {},
   "outputs": [
    {
     "data": {
      "text/plain": [
       "snr_sm_id  jnr_sm_id\n",
       "SNR501MG   JNR1001MG    33\n",
       "           JNR1002MG    20\n",
       "           JNR1003MG    20\n",
       "           JNR1004MG    20\n",
       "SNR502MG   JNR1005MG    19\n",
       "           JNR1006MG    20\n",
       "           JNR1007MG    19\n",
       "           JNR1008MG    20\n",
       "SNR503MG   JNR1009MG    20\n",
       "           JNR1010MG    21\n",
       "           JNR1011MG    26\n",
       "           JNR1012MG    31\n",
       "SNR504MG   JNR1013MG    20\n",
       "           JNR1014MG    20\n",
       "           JNR1015MG    21\n",
       "           JNR1016MG    26\n",
       "dtype: int64"
      ]
     },
     "execution_count": 67,
     "metadata": {},
     "output_type": "execute_result"
    }
   ],
   "source": [
    "df5.groupby(['snr_sm_id','jnr_sm_id']).size()"
   ]
  },
  {
   "cell_type": "code",
   "execution_count": 68,
   "id": "29c6d99d",
   "metadata": {
    "scrolled": true
   },
   "outputs": [
    {
     "data": {
      "image/png": "[encoded data removed]",
      "text/plain": [
       "<Figure size 1200x800 with 1 Axes>"
      ]
     },
     "metadata": {},
     "output_type": "display_data"
    }
   ],
   "source": [
    "fig,ax=plt.subplots(figsize=(12,8))\n",
    "ax=sns.histplot(data=df5[\"snr_sm_id\"],bins=4,color=\"skyblue\")\n",
    "ax.set(title=\"Averagedistribution junior sales managers to senior sales manager\",ylabel=\"No of junior sales Managers\",xlabel=\"senor Managers\");"
   ]
  },
  {
   "cell_type": "code",
   "execution_count": null,
   "id": "27ebaab1",
   "metadata": {},
   "outputs": [],
   "source": []
  },
  {
   "cell_type": "markdown",
   "id": "dacd4e15",
   "metadata": {},
   "source": [
    "#### Number of junior sales managers are almost evenly assigned among senior salse  managers. Here we have total of 4 senior managers"
   ]
  },
  {
   "cell_type": "code",
   "execution_count": 69,
   "id": "1c2fdea1",
   "metadata": {},
   "outputs": [
    {
     "data": {
      "text/plain": [
       "64"
      ]
     },
     "execution_count": 69,
     "metadata": {},
     "output_type": "execute_result"
    }
   ],
   "source": [
    "# percentage of leads acquired\n",
    "acquired_leads=L4.query('call_reason == \"successful_conversion\"')['lead_id'].nunique()\n",
    "acquired_leads"
   ]
  },
  {
   "cell_type": "code",
   "execution_count": 70,
   "id": "66a0875a",
   "metadata": {},
   "outputs": [
    {
     "data": {
      "text/plain": [
       "354"
      ]
     },
     "execution_count": 70,
     "metadata": {},
     "output_type": "execute_result"
    }
   ],
   "source": [
    "total_no_of_leads=L4.lead_id.nunique()\n",
    "total_no_of_leads"
   ]
  },
  {
   "cell_type": "code",
   "execution_count": null,
   "id": "0599987a",
   "metadata": {},
   "outputs": [],
   "source": []
  },
  {
   "cell_type": "code",
   "execution_count": 71,
   "id": "631ee7cc",
   "metadata": {},
   "outputs": [
    {
     "name": "stdout",
     "output_type": "stream",
     "text": [
      "18.07909604519774\n"
     ]
    }
   ],
   "source": [
    "percent_of_leads_acquired=acquired_leads/total_no_of_leads*100\n",
    "print(percent_of_leads_acquired)"
   ]
  },
  {
   "cell_type": "code",
   "execution_count": 72,
   "id": "5f9b6270",
   "metadata": {},
   "outputs": [
    {
     "data": {
      "text/plain": [
       "Text(0.5, 1.0, 'percentage of Leads')"
      ]
     },
     "execution_count": 72,
     "metadata": {},
     "output_type": "execute_result"
    },
    {
     "data": {
      "image/png": "[encoded data removed]",
      "text/plain": [
       "<Figure size 1200x600 with 1 Axes>"
      ]
     },
     "metadata": {},
     "output_type": "display_data"
    }
   ],
   "source": [
    "no_of_leads_acquired=np.array([acquired_leads, total_no_of_leads-acquired_leads])                             \n",
    "ig,ax=plt.subplots(figsize=(12,6))\n",
    "ax.pie(no_of_leads_acquired,labels=[\"acquired_leads\",\"total_no_of_leads\"],autopct='%.2f',colors=[\"#D1D0CE\",\"#2B547E\"],startangle=90)\n",
    "ax.set_title(\"percentage of Leads\")"
   ]
  },
  {
   "cell_type": "markdown",
   "id": "b775aecd",
   "metadata": {},
   "source": [
    "### approximately around 18% of customer acquisition is successfully done by the team"
   ]
  },
  {
   "cell_type": "code",
   "execution_count": null,
   "id": "ec4d2ae9",
   "metadata": {},
   "outputs": [],
   "source": []
  }
 ],
 "metadata": {
  "kernelspec": {
   "display_name": "Python 3 (ipykernel)",
   "language": "python",
   "name": "python3"
  },
  "language_info": {
   "codemirror_mode": {
    "name": "ipython",
    "version": 3
   },
   "file_extension": ".py",
   "mimetype": "text/x-python",
   "name": "python",
   "nbconvert_exporter": "python",
   "pygments_lexer": "ipython3",
   "version": "3.9.13"
  },
  "vscode": {
   "interpreter": {
    "hash": "ad2bdc8ecc057115af97d19610ffacc2b4e99fae6737bb82f5d7fb13d2f2c186"
   }
  }
 },
 "nbformat": 4,
 "nbformat_minor": 5
}
